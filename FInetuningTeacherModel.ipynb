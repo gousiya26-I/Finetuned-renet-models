{
  "nbformat": 4,
  "nbformat_minor": 0,
  "metadata": {
    "colab": {
      "provenance": [],
      "machine_shape": "hm"
    },
    "kernelspec": {
      "name": "python3",
      "display_name": "Python 3"
    },
    "language_info": {
      "name": "python"
    },
    "accelerator": "GPU",
    "gpuClass": "standard"
  },
  "cells": [
    {
      "cell_type": "code",
      "execution_count": null,
      "metadata": {
        "id": "33nKSP0iFdUb"
      },
      "outputs": [],
      "source": [
        "import tensorflow as tf\n",
        "import tensorflow_datasets as tfds\n",
        "import tensorflow_hub as hub\n",
        "\n",
        "from tensorflow import keras\n",
        "\n",
        "tfds.disable_progress_bar()\n",
        "tf.random.set_seed(42)"
      ]
    },
    {
      "cell_type": "code",
      "source": [
        "MODULE_URL = \"https://tfhub.dev/google/bit/m-r101x3/1\"\n",
        "\n",
        "BATCH_SIZE = 128\n",
        "SZ = 224\n",
        "NUM_EPOCHS = 10\n",
        "\n",
        "AUTO = tf.data.AUTOTUNE\n",
        "NB_CLASSES = 5"
      ],
      "metadata": {
        "id": "N2r0j2PoFsYM"
      },
      "execution_count": null,
      "outputs": []
    },
    {
      "cell_type": "code",
      "source": [
        "def preprocess_dataset(is_training=True):\n",
        "    def _pp(image, label):\n",
        "        if is_training:\n",
        "            # Resize to a bigger spatial resolution and take the random\n",
        "            # crops.\n",
        "            image = tf.image.resize(image, (SZ + 20, SZ + 20))\n",
        "            image = tf.image.random_crop(image, (SZ, SZ, 3))\n",
        "            image = tf.image.random_flip_left_right(image)\n",
        "        else:\n",
        "            image = tf.image.resize(image, (SZ, SZ))\n",
        "        label = tf.one_hot(label, depth=NB_CLASSES)\n",
        "        return image, label\n",
        "\n",
        "    return _pp\n",
        "\n",
        "\n",
        "def prepare_dataset(dataset, is_training=True):\n",
        "    if is_training:\n",
        "        dataset = dataset.shuffle(BATCH_SIZE * 10)\n",
        "    dataset = dataset.map(preprocess_dataset(is_training), num_parallel_calls=AUTO)\n",
        "    return dataset.batch(BATCH_SIZE).prefetch(AUTO)"
      ],
      "metadata": {
        "id": "QpVnistjGDqE"
      },
      "execution_count": null,
      "outputs": []
    },
    {
      "cell_type": "code",
      "source": [
        "train_dataset, val_dataset = tfds.load(\n",
        "    \"tf_flowers\", split=[\"train[:90%]\", \"train[90%:]\"], as_supervised=True\n",
        ")\n",
        "num_train = train_dataset.cardinality()\n",
        "num_val = val_dataset.cardinality()\n",
        "print(f\"Number of training examples: {num_train}\")\n",
        "print(f\"Number of validation examples: {num_val}\")\n",
        "\n",
        "train_dataset = prepare_dataset(train_dataset, is_training=True)\n",
        "val_dataset = prepare_dataset(val_dataset, is_training=False)"
      ],
      "metadata": {
        "id": "d0y-5Xs-GJPa"
      },
      "execution_count": null,
      "outputs": []
    },
    {
      "cell_type": "code",
      "source": [
        "hub_module = hub.KerasLayer(MODULE_URL)\n",
        "\n",
        "model = keras.Sequential(\n",
        "    [\n",
        "        keras.Input((SZ, SZ, 3)),\n",
        "        keras.layers.Rescaling(scale=1.0 / 255),\n",
        "        hub_module,\n",
        "        keras.layers.Dense(NB_CLASSES, kernel_initializer=\"zeros\"),\n",
        "    ],\n",
        "    name=\"bit_teacher_flowers\",\n",
        ")\n",
        "print(f\"Number of parameters (millions): {model.count_params() / 1e6}.\")"
      ],
      "metadata": {
        "id": "GFVNXcUzGOCL"
      },
      "execution_count": null,
      "outputs": []
    },
    {
      "cell_type": "code",
      "source": [
        "SCHEDULE_LENGTH = 500\n",
        "SCHEDULE_LENGTH = SCHEDULE_LENGTH * 512 / BATCH_SIZE\n",
        "\n",
        "SCHEDULE_BOUNDARIES = [200, 300, 400]\n",
        "lr = 0.003 * BATCH_SIZE / 512\n",
        "\n",
        "# Decay learning rate by a factor of 10 at SCHEDULE_BOUNDARIES.\n",
        "lr_schedule = keras.optimizers.schedules.PiecewiseConstantDecay(\n",
        "    boundaries=SCHEDULE_BOUNDARIES, values=[lr, lr * 0.1, lr * 0.001, lr * 0.0001]\n",
        ")\n",
        "optimizer = keras.optimizers.SGD(learning_rate=lr_schedule, momentum=0.9)\n",
        "\n",
        "loss_fn = keras.losses.CategoricalCrossentropy(from_logits=True)"
      ],
      "metadata": {
        "id": "0k5SsJKAHDDO"
      },
      "execution_count": null,
      "outputs": []
    },
    {
      "cell_type": "code",
      "source": [
        "model.compile(optimizer=optimizer, loss=loss_fn, metrics=[\"accuracy\"])\n",
        "\n",
        "history = model.fit(\n",
        "    train_dataset.repeat(),\n",
        "    batch_size=BATCH_SIZE,\n",
        "    steps_per_epoch=10,\n",
        "    epochs=NUM_EPOCHS,\n",
        "    validation_data=val_dataset,\n",
        ")"
      ],
      "metadata": {
        "id": "si0vNN2UHg1h"
      },
      "execution_count": null,
      "outputs": []
    },
    {
      "cell_type": "code",
      "source": [
        "model.save(\"bit_teacher_flowers1\")"
      ],
      "metadata": {
        "id": "b6gZsDeTHoTa",
        "colab": {
          "base_uri": "https://localhost:8080/",
          "height": 131
        },
        "outputId": "00c38f56-89bc-4d4b-8a98-45d68709b5b6"
      },
      "execution_count": null,
      "outputs": [
        {
          "output_type": "error",
          "ename": "SyntaxError",
          "evalue": "ignored",
          "traceback": [
            "\u001b[0;36m  File \u001b[0;32m\"<ipython-input-12-6762f7b97347>\"\u001b[0;36m, line \u001b[0;32m1\u001b[0m\n\u001b[0;31m    '/content/drive/MyDrive/New/cls_KD-master' = model.save(\"bit_teacher_flowers1\")\u001b[0m\n\u001b[0m                                                                                   ^\u001b[0m\n\u001b[0;31mSyntaxError\u001b[0m\u001b[0;31m:\u001b[0m can't assign to literal\n"
          ]
        }
      ]
    },
    {
      "cell_type": "code",
      "source": [
        "# Save fine-tuned model as SavedModel\n",
        "export_module_dir = '/content/drive/MyDrive/New/cls_KD-master'\n",
        "tf.saved_model.save(model, export_module_dir)"
      ],
      "metadata": {
        "id": "epQNxSt3LZCV"
      },
      "execution_count": null,
      "outputs": []
    },
    {
      "cell_type": "code",
      "source": [
        "from google.colab import drive\n",
        "drive.mount('/content/drive')"
      ],
      "metadata": {
        "id": "FCu7NiIjLcxt"
      },
      "execution_count": null,
      "outputs": []
    }
  ]
}